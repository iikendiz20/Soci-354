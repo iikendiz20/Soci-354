{
 "cells": [
  {
   "cell_type": "code",
   "execution_count": 33,
   "id": "d14bbbf1-43f5-4158-886e-cffaf983cc02",
   "metadata": {
    "tags": []
   },
   "outputs": [
    {
     "name": "stdout",
     "output_type": "stream",
     "text": [
      "   age  workclass  fnlwgt  education  educational-num  marital-status  \\\n",
      "0   25          3  226802          1                7               4   \n",
      "1   38          3   89814         11                9               2   \n",
      "2   28          1  336951          7               12               2   \n",
      "3   44          3  160323         15               10               2   \n",
      "4   18          3  103497         15               10               4   \n",
      "\n",
      "   occupation  relationship  race  gender  capital-gain  capital-loss  \\\n",
      "0           6             3     2       1             0             0   \n",
      "1           4             0     4       1             0             0   \n",
      "2          10             0     4       1             0             0   \n",
      "3           6             0     2       1          7688             0   \n",
      "4           9             3     4       0             0             0   \n",
      "\n",
      "   hours-per-week  native-country  income  \n",
      "0              40              38       0  \n",
      "1              50              38       0  \n",
      "2              40              38       1  \n",
      "3              40              38       1  \n",
      "4              30              38       0  \n"
     ]
    }
   ],
   "source": [
    "# Import necessary libraries\n",
    "import pandas as pd\n",
    "import numpy as np\n",
    "from sklearn.preprocessing import LabelEncoder, StandardScaler\n",
    "from sklearn.model_selection import train_test_split, GridSearchCV\n",
    "from sklearn.linear_model import LogisticRegression\n",
    "from sklearn.tree import DecisionTreeClassifier\n",
    "from sklearn.ensemble import RandomForestClassifier\n",
    "from sklearn.metrics import accuracy_score, classification_report, f1_score, confusion_matrix\n",
    "\n",
    "# Load the CSV file\n",
    "data_path = '/Users/ilaydadenizikendiz/adult-income.csv'\n",
    "data = pd.read_csv(data_path)\n",
    "\n",
    "# Handle missing values (impute with mode for categorical variables)\n",
    "data = data.replace('?', np.nan)\n",
    "for column in data.select_dtypes(include=['object']).columns:\n",
    "    data[column].fillna(data[column].mode()[0], inplace=True)\n",
    "\n",
    "# Encode categorical variables\n",
    "label_encoders = {}\n",
    "for column in data.select_dtypes(include=['object']).columns:\n",
    "    le = LabelEncoder()\n",
    "    data[column] = le.fit_transform(data[column])\n",
    "    label_encoders[column] = le\n",
    "\n",
    "# Split the dataset into features and target variable\n",
    "X = data.drop('income', axis=1)\n",
    "y = data['income'].astype(int)  # Ensure 'income' is categorical\n",
    "\n",
    "# Normalize the feature data (only features, not target)\n",
    "scaler = StandardScaler()\n",
    "X[X.columns] = scaler.fit_transform(X[X.columns])\n",
    "\n",
    "# Split the dataset into training and test sets\n",
    "X_train, X_test, y_train, y_test = train_test_split(X, y, test_size=0.3, random_state=42)\n",
    "print(data.head())"
   ]
  },
  {
   "cell_type": "code",
   "execution_count": 34,
   "id": "f110c035-a8fe-4eb2-bc34-3d72b9a44377",
   "metadata": {
    "tags": []
   },
   "outputs": [
    {
     "name": "stdout",
     "output_type": "stream",
     "text": [
      "Logistic Regression accuracy: 0.8301371732750973\n",
      "Logistic Regression Report:\n",
      "              precision    recall  f1-score   support\n",
      "\n",
      "           0       0.85      0.94      0.89     11233\n",
      "           1       0.71      0.46      0.56      3420\n",
      "\n",
      "    accuracy                           0.83     14653\n",
      "   macro avg       0.78      0.70      0.73     14653\n",
      "weighted avg       0.82      0.83      0.82     14653\n",
      "\n",
      "Confusion Matrix:\n",
      "[[10597   636]\n",
      " [ 1853  1567]] \n",
      "\n"
     ]
    }
   ],
   "source": [
    "# 2. Model Implementation\n",
    "from sklearn.svm import SVC\n",
    "from sklearn.linear_model import LogisticRegression\n",
    "from sklearn.tree import DecisionTreeClassifier\n",
    "from sklearn.ensemble import RandomForestClassifier\n",
    "\n",
    "# Logistic Regression\n",
    "log_reg = LogisticRegression()\n",
    "log_reg.fit(X_train, y_train)\n",
    "y_pred_log_reg = log_reg.predict(X_test)\n",
    "accuracy_log_reg = accuracy_score(y_test, y_pred_log_reg)\n",
    "\n",
    "print(\"Logistic Regression accuracy:\", accuracy_log_reg)\n",
    "print(\"Logistic Regression Report:\")\n",
    "print(classification_report(y_test, y_pred_log_reg))\n",
    "print(\"Confusion Matrix:\")\n",
    "print(confusion_matrix(y_test, y_pred_log_reg), \"\\n\")\n"
   ]
  },
  {
   "cell_type": "code",
   "execution_count": 35,
   "id": "ee2fa136-f3de-4c3b-8094-8b5132cf6ea8",
   "metadata": {
    "tags": []
   },
   "outputs": [
    {
     "name": "stdout",
     "output_type": "stream",
     "text": [
      "Decision Tree accuracy: 0.8195591346481949\n",
      "Decision Tree Report:\n",
      "              precision    recall  f1-score   support\n",
      "\n",
      "           0       0.89      0.87      0.88     11233\n",
      "           1       0.61      0.64      0.62      3420\n",
      "\n",
      "    accuracy                           0.82     14653\n",
      "   macro avg       0.75      0.76      0.75     14653\n",
      "weighted avg       0.82      0.82      0.82     14653\n",
      "\n",
      "Confusion Matrix:\n",
      "[[9810 1423]\n",
      " [1221 2199]] \n",
      "\n"
     ]
    }
   ],
   "source": [
    "# Decision Tree\n",
    "decision_tree = DecisionTreeClassifier()\n",
    "decision_tree.fit(X_train, y_train)\n",
    "y_pred_decision_tree = decision_tree.predict(X_test)\n",
    "accuracy_decision_tree = accuracy_score(y_test, y_pred_decision_tree)\n",
    "\n",
    "print(\"Decision Tree accuracy:\", accuracy_decision_tree)\n",
    "print(\"Decision Tree Report:\")\n",
    "print(classification_report(y_test, y_pred_decision_tree))\n",
    "print(\"Confusion Matrix:\")\n",
    "print(confusion_matrix(y_test, y_pred_decision_tree), \"\\n\")"
   ]
  },
  {
   "cell_type": "code",
   "execution_count": 36,
   "id": "3a2a564e-6552-4f0a-8c84-b554be2a3918",
   "metadata": {
    "tags": []
   },
   "outputs": [
    {
     "name": "stdout",
     "output_type": "stream",
     "text": [
      "Random Forest accuracy: 0.8639868968811847\n",
      "Random Forest Report:\n",
      "              precision    recall  f1-score   support\n",
      "\n",
      "           0       0.89      0.93      0.91     11233\n",
      "           1       0.74      0.64      0.69      3420\n",
      "\n",
      "    accuracy                           0.86     14653\n",
      "   macro avg       0.82      0.79      0.80     14653\n",
      "weighted avg       0.86      0.86      0.86     14653\n",
      "\n",
      "Confusion Matrix:\n",
      "[[10473   760]\n",
      " [ 1233  2187]] \n",
      "\n"
     ]
    }
   ],
   "source": [
    "# Random Forest\n",
    "random_forest = RandomForestClassifier()\n",
    "random_forest.fit(X_train, y_train)\n",
    "y_pred_random_forest = random_forest.predict(X_test)\n",
    "accuracy_random_forest = accuracy_score(y_test, y_pred_random_forest)\n",
    "print(\"Random Forest accuracy:\", accuracy_random_forest)\n",
    "print(\"Random Forest Report:\")\n",
    "print(classification_report(y_test, y_pred_random_forest))\n",
    "print(\"Confusion Matrix:\")\n",
    "print(confusion_matrix(y_test, y_pred_random_forest), \"\\n\")\n"
   ]
  },
  {
   "cell_type": "code",
   "execution_count": 37,
   "id": "7284a6d0-5d5b-489f-9300-7e0168ff251f",
   "metadata": {},
   "outputs": [],
   "source": [
    "# 3. Model Tuning\n",
    "\n",
    "from sklearn.model_selection import GridSearchCV\n",
    "\n",
    "# Logistic Regression Hyperparameter Tuning\n",
    "param_grid_log_reg = {'C': [0.1, 1, 10, 100], 'solver': ['liblinear']}\n",
    "grid_log_reg = GridSearchCV(LogisticRegression(), param_grid_log_reg, cv=5)\n",
    "grid_log_reg.fit(X_train, y_train)\n",
    "best_log_reg = grid_log_reg.best_estimator_\n",
    "best_log_reg.fit(X_train, y_train)\n",
    "y_pred_best_log_reg = best_log_reg.predict(X_test)\n",
    "accuracy_best_log_reg = accuracy_score(y_test, y_pred_best_log_reg)\n"
   ]
  },
  {
   "cell_type": "code",
   "execution_count": 38,
   "id": "a0e0563e-06cb-4056-b25f-3b068ef7af3e",
   "metadata": {
    "tags": []
   },
   "outputs": [],
   "source": [
    "# Decision Tree Hyperparameter Tuning\n",
    "param_grid_tree = {'max_depth': [None, 10, 20, 30], 'min_samples_split': [2, 10, 20]}\n",
    "grid_tree = GridSearchCV(DecisionTreeClassifier(), param_grid_tree, cv=5)\n",
    "grid_tree.fit(X_train, y_train)\n",
    "best_tree = grid_tree.best_estimator_\n",
    "best_tree.fit(X_train, y_train)\n",
    "y_pred_best_tree = best_tree.predict(X_test)\n",
    "accuracy_best_tree = accuracy_score(y_test, y_pred_best_tree)\n"
   ]
  },
  {
   "cell_type": "code",
   "execution_count": 39,
   "id": "0e9148f4-d422-4382-bcca-cad839d03896",
   "metadata": {
    "tags": []
   },
   "outputs": [],
   "source": [
    "# Random Forest Hyperparameter Tuning\n",
    "param_grid_forest = {'n_estimators': [10, 50, 100], 'max_features': ['sqrt', 'log2']}\n",
    "grid_forest = GridSearchCV(RandomForestClassifier(), param_grid_forest, cv=5)\n",
    "grid_forest.fit(X_train, y_train)\n",
    "best_forest = grid_forest.best_estimator_\n",
    "best_forest.fit(X_train, y_train)\n",
    "y_pred_best_forest = best_forest.predict(X_test)\n",
    "accuracy_best_forest = accuracy_score(y_test, y_pred_best_forest)"
   ]
  },
  {
   "cell_type": "code",
   "execution_count": 41,
   "id": "7d624d7a-ea8e-4876-9685-06337556bfa9",
   "metadata": {
    "tags": []
   },
   "outputs": [
    {
     "name": "stdout",
     "output_type": "stream",
     "text": [
      "Logistic Regression Report:\n",
      "              precision    recall  f1-score   support\n",
      "\n",
      "           0       0.85      0.94      0.89     11233\n",
      "           1       0.71      0.46      0.56      3420\n",
      "\n",
      "    accuracy                           0.83     14653\n",
      "   macro avg       0.78      0.70      0.73     14653\n",
      "weighted avg       0.82      0.83      0.82     14653\n",
      "\n",
      "Confusion Matrix:\n",
      "[[10596   637]\n",
      " [ 1852  1568]] \n",
      "\n",
      "Decision Tree Report:\n",
      "              precision    recall  f1-score   support\n",
      "\n",
      "           0       0.88      0.95      0.91     11233\n",
      "           1       0.78      0.57      0.66      3420\n",
      "\n",
      "    accuracy                           0.86     14653\n",
      "   macro avg       0.83      0.76      0.79     14653\n",
      "weighted avg       0.86      0.86      0.86     14653\n",
      "\n",
      "Confusion Matrix:\n",
      "[[10676   557]\n",
      " [ 1454  1966]] \n",
      "\n",
      "Random Forest Report:\n",
      "              precision    recall  f1-score   support\n",
      "\n",
      "           0       0.89      0.93      0.91     11233\n",
      "           1       0.74      0.63      0.68      3420\n",
      "\n",
      "    accuracy                           0.86     14653\n",
      "   macro avg       0.82      0.78      0.80     14653\n",
      "weighted avg       0.86      0.86      0.86     14653\n",
      "\n",
      "Confusion Matrix:\n",
      "[[10470   763]\n",
      " [ 1253  2167]]\n"
     ]
    }
   ],
   "source": [
    "# 4. Model Evaluation:\n",
    "\n",
    "# Logistic Regression Evaluation\n",
    "print(\"Logistic Regression Report:\")\n",
    "print(classification_report(y_test, y_pred_best_log_reg))\n",
    "print(\"Confusion Matrix:\")\n",
    "print(confusion_matrix(y_test, y_pred_best_log_reg), \"\\n\")\n",
    "\n",
    "# Decision Tree Evaluation\n",
    "print(\"Decision Tree Report:\")\n",
    "print(classification_report(y_test, y_pred_best_tree))\n",
    "print(\"Confusion Matrix:\")\n",
    "print(confusion_matrix(y_test, y_pred_best_tree), \"\\n\")\n",
    "\n",
    "# Random Forest Evaluation\n",
    "print(\"Random Forest Report:\")\n",
    "print(classification_report(y_test, y_pred_best_forest))\n",
    "print(\"Confusion Matrix:\")\n",
    "print(confusion_matrix(y_test, y_pred_best_forest))"
   ]
  },
  {
   "cell_type": "code",
   "execution_count": 42,
   "id": "e08d3c12-1f77-497a-badd-c1dd52ff58eb",
   "metadata": {
    "tags": []
   },
   "outputs": [
    {
     "name": "stdout",
     "output_type": "stream",
     "text": [
      "                 Model  Accuracy  F1-Score\n",
      "0  Logistic Regression  0.830137  0.557511\n",
      "1        Decision Tree  0.862758  0.661619\n",
      "2        Random Forest  0.862417  0.682520 \n",
      "\n"
     ]
    },
    {
     "data": {
      "image/png": "[encoded data removed]",
      "text/plain": [
       "<Figure size 1200x600 with 2 Axes>"
      ]
     },
     "metadata": {},
     "output_type": "display_data"
    }
   ],
   "source": [
    "import matplotlib.pyplot as plt\n",
    "import seaborn as sns\n",
    "from sklearn.metrics import f1_score\n",
    "\n",
    "# Calculate F1-scores for each model\n",
    "f1_best_log_reg = f1_score(y_test, y_pred_best_log_reg)\n",
    "f1_best_tree = f1_score(y_test, y_pred_best_tree)\n",
    "f1_best_forest = f1_score(y_test, y_pred_best_forest)\n",
    "\n",
    "# Create a DataFrame for accuracies and F1-scores\n",
    "model_performance = {\n",
    "    'Model': ['Logistic Regression', 'Decision Tree', 'Random Forest'],\n",
    "    'Accuracy': [accuracy_best_log_reg, accuracy_best_tree, accuracy_best_forest],\n",
    "    'F1-Score': [f1_best_log_reg, f1_best_tree, f1_best_forest]\n",
    "}\n",
    "\n",
    "performance_df = pd.DataFrame(model_performance)\n",
    "print(performance_df, \"\\n\")\n",
    "\n",
    "\n",
    "\n",
    "# Creating a bar plot for model accuracies and F1-scores\n",
    "plt.figure(figsize=(12, 6))\n",
    "\n",
    "# Accuracy Plot\n",
    "plt.subplot(1, 2, 1)\n",
    "sns.barplot(x='Model', y='Accuracy', data=performance_df, palette='viridis')\n",
    "plt.title('Model Accuracy Comparison')\n",
    "plt.ylim(0, 1)\n",
    "plt.ylabel('Accuracy')\n",
    "plt.xlabel('Model')\n",
    "plt.xticks(rotation=45)\n",
    "\n",
    "# F1-Score Plot\n",
    "plt.subplot(1, 2, 2)\n",
    "sns.barplot(x='Model', y='F1-Score', data=performance_df, palette='viridis')\n",
    "plt.title('Model F1-Score Comparison')\n",
    "plt.ylim(0, 1)\n",
    "plt.ylabel('F1-Score')\n",
    "plt.xlabel('Model')\n",
    "plt.xticks(rotation=45)\n",
    "\n",
    "plt.tight_layout()\n",
    "\n",
    "# Show the plot\n",
    "plt.show()\n"
   ]
  },
  {
   "cell_type": "code",
   "execution_count": null,
   "id": "02a99cb0-fbb5-48ec-80cf-8a1dc4cab6d3",
   "metadata": {},
   "outputs": [],
   "source": []
  }
 ],
 "metadata": {
  "kernelspec": {
   "display_name": "Python 3 (ipykernel)",
   "language": "python",
   "name": "python3"
  },
  "language_info": {
   "codemirror_mode": {
    "name": "ipython",
    "version": 3
   },
   "file_extension": ".py",
   "mimetype": "text/x-python",
   "name": "python",
   "nbconvert_exporter": "python",
   "pygments_lexer": "ipython3",
   "version": "3.11.4"
  }
 },
 "nbformat": 4,
 "nbformat_minor": 5
}
