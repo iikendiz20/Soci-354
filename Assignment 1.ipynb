{
 "cells": [
  {
   "cell_type": "code",
   "execution_count": 31,
   "id": "b45f461b",
   "metadata": {},
   "outputs": [
    {
     "name": "stdout",
     "output_type": "stream",
     "text": [
      "1 ile 20 arasında bir sayı tahmin ediniz:7\n",
      "False, daha büyük bir sayı girmelisiniz:16\n",
      "False, daha büyük bir sayı girmelisiniz:18\n",
      "False, daha küçük bir sayı girmelisiniz:17\n",
      "True\n"
     ]
    }
   ],
   "source": [
    "# Problem 1\n",
    "\n",
    "# ilk inputu alıyor\n",
    "my_number = int(input(\"1 ile 20 arasında bir sayı tahmin ediniz:\"))  \n",
    "\n",
    "# 1 ile 20 arasında bir random sayı belirliyor\n",
    "import random\n",
    "random_number = random.randint(1, 21)\n",
    "\n",
    "# inputların random sayıyla ilişkisini inceleyen döngü\n",
    "i= False\n",
    "while(i==False):\n",
    "    \n",
    "    if my_number == random_number:\n",
    "        print (\"True\")\n",
    "        i=True\n",
    "    \n",
    "    elif my_number > random_number:\n",
    "        my_number =int(input(\"False, daha küçük bir sayı girmelisiniz:\"))\n",
    "        \n",
    "    else:\n",
    "        my_number = int(input(\"False, daha büyük bir sayı girmelisiniz:\"))"
   ]
  },
  {
   "cell_type": "code",
   "execution_count": 20,
   "id": "0377bfe3",
   "metadata": {},
   "outputs": [
    {
     "name": "stdout",
     "output_type": "stream",
     "text": [
      "2\n"
     ]
    }
   ],
   "source": [
    "#problem 2\n",
    "\n",
    "def find_index(my_list, target_value):\n",
    "    \n",
    "    found = False\n",
    "    \n",
    "    # if the target is in list find the index and return\n",
    "    for i in range(len(my_list)):\n",
    "        j = my_list[i]\n",
    "        if j == target_value:\n",
    "            found = True\n",
    "            return i\n",
    "\n",
    "    # if not, append the target value and sort the list, apply the first step again\n",
    "    if (found == False):\n",
    "        my_list.append(target_value)\n",
    "        my_list.sort()\n",
    "\n",
    "        for i in range(len(my_list)):\n",
    "            j = my_list[i]\n",
    "            if j == target_value:\n",
    "                return i\n",
    "\n",
    "# test values\n",
    "liste = [1,2,4,5,6]\n",
    "target = 8\n",
    "\n",
    "print(find_index(liste, target))\n",
    "\n",
    "\n",
    "\n",
    "        "
   ]
  },
  {
   "cell_type": "code",
   "execution_count": 34,
   "id": "2a223bfe",
   "metadata": {},
   "outputs": [
    {
     "name": "stdout",
     "output_type": "stream",
     "text": [
      "0b1111\n"
     ]
    }
   ],
   "source": [
    "# problem 3\n",
    "\n",
    "def my_binary_sum(a, b):\n",
    "    \n",
    "    # convert my binary strings to integer and sum\n",
    "    my_sum = int(a, base=2) + int(b, base=2)\n",
    "\n",
    "    # convert my sum to binary and return\n",
    "    return bin(my_sum)\n",
    "    \n",
    "# test values\n",
    "first = \"101\"\n",
    "second =\"1010\"\n",
    "\n",
    "print(my_binary_sum(first, second))\n"
   ]
  },
  {
   "cell_type": "code",
   "execution_count": 36,
   "id": "6b2d3262",
   "metadata": {},
   "outputs": [
    {
     "name": "stdout",
     "output_type": "stream",
     "text": [
      "2\n"
     ]
    }
   ],
   "source": [
    "# problem 4\n",
    "\n",
    "def find_single(listem):\n",
    "    \n",
    "    # start to count frequency of elements and if found an element has single frequency return it.\n",
    "    for i in listem:\n",
    "        if listem.count(i) == 1:\n",
    "            return i\n",
    "        \n",
    "# test values\n",
    "x = [1,2,5,3,3,1]\n",
    "\n",
    "print(find_single(x))"
   ]
  },
  {
   "cell_type": "code",
   "execution_count": 29,
   "id": "78918a0d",
   "metadata": {},
   "outputs": [
    {
     "name": "stdout",
     "output_type": "stream",
     "text": [
      "{'CCCCCAAAAA', 'AAAAACCCCC'}\n",
      "{'TTTTTTTTTT'}\n"
     ]
    }
   ],
   "source": [
    "\n",
    "\n",
    "def substrings(x):\n",
    "    \n",
    "    #10' luk substringler\n",
    "    l = []\n",
    "    \n",
    "    #tekrar eden substringleri tutan küme\n",
    "    r = set()\n",
    "    \n",
    "    # 0. indexden başlayarak liste uzunluğunun 10 eksiğine kadar,\n",
    "    # her adımda bir ekleyerek 10 luk substringler oluşturan döngü\n",
    "    for a in range (0, len(x) - 10):\n",
    "        l.append(x[a:a+10])\n",
    "\n",
    "    # 1 den fazla kez tekrar eden elemanları kümeye ekle\n",
    "    for i in l:\n",
    "        if l.count(i) > 1:\n",
    "            r.add(i)\n",
    "    return r\n",
    "\n",
    "# test values\n",
    "s1 = \"AAAAACCCCCAAAAACCCCCCAAAAAGGGTTT\" \n",
    "s2 = \"ACGTACGTACGTAAACCGTTAACGTACGAGAGCGTTTTTACGTTTTTTTTTTTTTTTTTT\"\n",
    "\n",
    "print(substrings(s1))\n",
    "print(substrings(s2))\n",
    "\n",
    "\n",
    "\n",
    "\n",
    "\n",
    "    \n"
   ]
  },
  {
   "cell_type": "code",
   "execution_count": null,
   "id": "a82fb2dc",
   "metadata": {},
   "outputs": [],
   "source": []
  },
  {
   "cell_type": "code",
   "execution_count": null,
   "id": "8c593060",
   "metadata": {},
   "outputs": [],
   "source": []
  },
  {
   "cell_type": "code",
   "execution_count": null,
   "id": "ac3e0a3d",
   "metadata": {},
   "outputs": [],
   "source": []
  },
  {
   "cell_type": "code",
   "execution_count": null,
   "id": "14334654",
   "metadata": {},
   "outputs": [],
   "source": []
  }
 ],
 "metadata": {
  "kernelspec": {
   "display_name": "Python 3 (ipykernel)",
   "language": "python",
   "name": "python3"
  },
  "language_info": {
   "codemirror_mode": {
    "name": "ipython",
    "version": 3
   },
   "file_extension": ".py",
   "mimetype": "text/x-python",
   "name": "python",
   "nbconvert_exporter": "python",
   "pygments_lexer": "ipython3",
   "version": "3.11.4"
  }
 },
 "nbformat": 4,
 "nbformat_minor": 5
}
