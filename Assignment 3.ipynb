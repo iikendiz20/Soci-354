{
 "cells": [
  {
   "cell_type": "markdown",
   "id": "f2e5d218-ea61-4d8b-8344-8a77c61a868f",
   "metadata": {
    "jp-MarkdownHeadingCollapsed": true,
    "tags": []
   },
   "source": [
    "1. Choose a Website:\n",
    "The website I intend to scrape, \"https://vpri.ku.edu.tr/basarilar/tubitak-bilim-odulleri/\", related to Koc University's Vice President for Research and Innovation (VPRI) and showcases achievements and awards received by proffesors associated with the university. Specifically, I aim to scrape data related to \"Tübitak Bilim Ödülleri\" (Tübitak Science Awards).\n",
    "\n",
    "The data I intend to scrape includes:\n",
    "\n",
    "- Names of individuals who have received Tübitak Science Awards\n",
    "- Departments or faculties associated with the individuals\n",
    "- Years in which the awards were received"
   ]
  },
  {
   "cell_type": "code",
   "execution_count": 63,
   "id": "8c9daa04-0a04-4ab3-a844-313f2bbdda78",
   "metadata": {
    "tags": []
   },
   "outputs": [
    {
     "name": "stdout",
     "output_type": "stream",
     "text": [
      "Requirement already satisfied: scrapy in /Users/ilaydadenizikendiz/anaconda3/lib/python3.11/site-packages (2.8.0)\n",
      "Requirement already satisfied: Twisted>=18.9.0 in /Users/ilaydadenizikendiz/anaconda3/lib/python3.11/site-packages (from scrapy) (22.10.0)\n",
      "Requirement already satisfied: cryptography>=3.4.6 in /Users/ilaydadenizikendiz/anaconda3/lib/python3.11/site-packages (from scrapy) (39.0.1)\n",
      "Requirement already satisfied: cssselect>=0.9.1 in /Users/ilaydadenizikendiz/anaconda3/lib/python3.11/site-packages (from scrapy) (1.1.0)\n",
      "Requirement already satisfied: itemloaders>=1.0.1 in /Users/ilaydadenizikendiz/anaconda3/lib/python3.11/site-packages (from scrapy) (1.0.4)\n",
      "Requirement already satisfied: parsel>=1.5.0 in /Users/ilaydadenizikendiz/anaconda3/lib/python3.11/site-packages (from scrapy) (1.6.0)\n",
      "Requirement already satisfied: pyOpenSSL>=21.0.0 in /Users/ilaydadenizikendiz/anaconda3/lib/python3.11/site-packages (from scrapy) (23.2.0)\n",
      "Requirement already satisfied: queuelib>=1.4.2 in /Users/ilaydadenizikendiz/anaconda3/lib/python3.11/site-packages (from scrapy) (1.5.0)\n",
      "Requirement already satisfied: service-identity>=18.1.0 in /Users/ilaydadenizikendiz/anaconda3/lib/python3.11/site-packages (from scrapy) (18.1.0)\n",
      "Requirement already satisfied: w3lib>=1.17.0 in /Users/ilaydadenizikendiz/anaconda3/lib/python3.11/site-packages (from scrapy) (1.21.0)\n",
      "Requirement already satisfied: zope.interface>=5.1.0 in /Users/ilaydadenizikendiz/anaconda3/lib/python3.11/site-packages (from scrapy) (5.4.0)\n",
      "Requirement already satisfied: protego>=0.1.15 in /Users/ilaydadenizikendiz/anaconda3/lib/python3.11/site-packages (from scrapy) (0.1.16)\n",
      "Requirement already satisfied: itemadapter>=0.1.0 in /Users/ilaydadenizikendiz/anaconda3/lib/python3.11/site-packages (from scrapy) (0.3.0)\n",
      "Requirement already satisfied: setuptools in /Users/ilaydadenizikendiz/anaconda3/lib/python3.11/site-packages (from scrapy) (68.0.0)\n",
      "Requirement already satisfied: packaging in /Users/ilaydadenizikendiz/anaconda3/lib/python3.11/site-packages (from scrapy) (23.0)\n",
      "Requirement already satisfied: tldextract in /Users/ilaydadenizikendiz/anaconda3/lib/python3.11/site-packages (from scrapy) (3.2.0)\n",
      "Requirement already satisfied: lxml>=4.3.0 in /Users/ilaydadenizikendiz/anaconda3/lib/python3.11/site-packages (from scrapy) (4.9.2)\n",
      "Requirement already satisfied: PyDispatcher>=2.0.5 in /Users/ilaydadenizikendiz/anaconda3/lib/python3.11/site-packages (from scrapy) (2.0.5)\n",
      "Requirement already satisfied: cffi>=1.12 in /Users/ilaydadenizikendiz/anaconda3/lib/python3.11/site-packages (from cryptography>=3.4.6->scrapy) (1.15.1)\n",
      "Requirement already satisfied: jmespath>=0.9.5 in /Users/ilaydadenizikendiz/anaconda3/lib/python3.11/site-packages (from itemloaders>=1.0.1->scrapy) (0.10.0)\n",
      "Requirement already satisfied: six>=1.6.0 in /Users/ilaydadenizikendiz/anaconda3/lib/python3.11/site-packages (from parsel>=1.5.0->scrapy) (1.16.0)\n",
      "Requirement already satisfied: attrs>=16.0.0 in /Users/ilaydadenizikendiz/anaconda3/lib/python3.11/site-packages (from service-identity>=18.1.0->scrapy) (22.1.0)\n",
      "Requirement already satisfied: pyasn1-modules in /Users/ilaydadenizikendiz/anaconda3/lib/python3.11/site-packages (from service-identity>=18.1.0->scrapy) (0.2.8)\n",
      "Requirement already satisfied: pyasn1 in /Users/ilaydadenizikendiz/anaconda3/lib/python3.11/site-packages (from service-identity>=18.1.0->scrapy) (0.4.8)\n",
      "Requirement already satisfied: constantly>=15.1 in /Users/ilaydadenizikendiz/anaconda3/lib/python3.11/site-packages (from Twisted>=18.9.0->scrapy) (15.1.0)\n",
      "Requirement already satisfied: incremental>=21.3.0 in /Users/ilaydadenizikendiz/anaconda3/lib/python3.11/site-packages (from Twisted>=18.9.0->scrapy) (21.3.0)\n",
      "Requirement already satisfied: Automat>=0.8.0 in /Users/ilaydadenizikendiz/anaconda3/lib/python3.11/site-packages (from Twisted>=18.9.0->scrapy) (20.2.0)\n",
      "Requirement already satisfied: hyperlink>=17.1.1 in /Users/ilaydadenizikendiz/anaconda3/lib/python3.11/site-packages (from Twisted>=18.9.0->scrapy) (21.0.0)\n",
      "Requirement already satisfied: typing-extensions>=3.6.5 in /Users/ilaydadenizikendiz/anaconda3/lib/python3.11/site-packages (from Twisted>=18.9.0->scrapy) (4.7.1)\n",
      "Requirement already satisfied: idna in /Users/ilaydadenizikendiz/anaconda3/lib/python3.11/site-packages (from tldextract->scrapy) (3.4)\n",
      "Requirement already satisfied: requests>=2.1.0 in /Users/ilaydadenizikendiz/anaconda3/lib/python3.11/site-packages (from tldextract->scrapy) (2.31.0)\n",
      "Requirement already satisfied: requests-file>=1.4 in /Users/ilaydadenizikendiz/anaconda3/lib/python3.11/site-packages (from tldextract->scrapy) (1.5.1)\n",
      "Requirement already satisfied: filelock>=3.0.8 in /Users/ilaydadenizikendiz/anaconda3/lib/python3.11/site-packages (from tldextract->scrapy) (3.9.0)\n",
      "Requirement already satisfied: pycparser in /Users/ilaydadenizikendiz/anaconda3/lib/python3.11/site-packages (from cffi>=1.12->cryptography>=3.4.6->scrapy) (2.21)\n",
      "Requirement already satisfied: charset-normalizer<4,>=2 in /Users/ilaydadenizikendiz/anaconda3/lib/python3.11/site-packages (from requests>=2.1.0->tldextract->scrapy) (2.0.4)\n",
      "Requirement already satisfied: urllib3<3,>=1.21.1 in /Users/ilaydadenizikendiz/anaconda3/lib/python3.11/site-packages (from requests>=2.1.0->tldextract->scrapy) (1.26.16)\n",
      "Requirement already satisfied: certifi>=2017.4.17 in /Users/ilaydadenizikendiz/anaconda3/lib/python3.11/site-packages (from requests>=2.1.0->tldextract->scrapy) (2024.2.2)\n",
      "Note: you may need to restart the kernel to use updated packages.\n"
     ]
    }
   ],
   "source": [
    "pip install scrapy"
   ]
  },
  {
   "cell_type": "code",
   "execution_count": 65,
   "id": "cc369c47-73c1-48f4-9287-ea656596d733",
   "metadata": {
    "tags": []
   },
   "outputs": [],
   "source": [
    "# 2. Set Up Your Environment:\n",
    "\n",
    "# Import a scrapy Selector\n",
    "from scrapy import Selector\n",
    "\n",
    "# Import requests\n",
    "import requests\n",
    "\n",
    "url = 'https://vpri.ku.edu.tr/basarilar/tubitak-bilim-odulleri/'\n"
   ]
  },
  {
   "cell_type": "code",
   "execution_count": 67,
   "id": "da3bcff7-0397-4e04-853a-1702f7be1518",
   "metadata": {
    "tags": []
   },
   "outputs": [
    {
     "name": "stdout",
     "output_type": "stream",
     "text": [
      "['Burak Erman', 'Attila Aşkar', 'Ali Ülger', 'Tekin Dereli', 'İskender Yılgör', 'Yaman Arkun', 'Murat Tekalp', 'Ali Mostafazadeh', 'M. İrşadi Aksun', 'Çiğdem Kağıtçıbaşı', 'Özlem Keskin Özkaya', 'Ziya Öniş', 'Alphan Sennaroğlu', 'Zeynep Aycan', 'Sumru Altuğ', 'Özgür Barış Akan']\n",
      "['Mühendislik Fakültesi', 'Matematik, Fen Fakültesi', 'Matematik, Fen Fakültesi', 'Matematik, Fen Fakültesi', 'Fizik, Fen Fakültesi', 'Fizik, Fen Fakültesi', 'Mühendislik Fakültesi', 'Fizik, Fen Fakültesi', 'Elektrik Elektronik Mühendisliği, Mühendislik Fakültesi', 'Sosyal Bilimler', 'Mühendislik', 'Sosyal Bilimler', 'Mühendislik', 'Sosyal Bilimler', 'Ekonomi', 'Mühendislik']\n",
      "['Tübitak Bilim Ödülü, 1991', 'Tübitak Bilim Ödülü, 1993', 'Tübitak Bilim Ödülü, 1995', 'Tübitak Bilim Ödülü, 1996', 'Tübitak Bilim Ödülü, 2003', 'Tübitak Bilim Ödülü, 2003', 'Tübitak Bilim Ödülü, 2004', 'Tübitak Bilim Ödülü, 2007', 'Tübitak Bilim Ödülü, 2007', 'Tübitak Bilim Ödülü, 2011', 'Tübitak Bilim Ödülü, 2012', 'Tübitak Bilim Ödülü, 2012', 'Tübitak Bilim Ödülü, 2013', 'Tübitak Bilim Ödülü, 2013', 'Tübitak Bilim Ödülü, 2017', 'Tübitak Bilim Ödülü, 2020']\n"
     ]
    }
   ],
   "source": [
    "# 3. Data Extraction:\n",
    "# Create the string html containing the HTML source\n",
    "html = requests.get(url).content\n",
    "\n",
    "# Create the Selector object sel from html\n",
    "sel = Selector(text = html)\n",
    "\n",
    "xpath_for_titles = '//*[@id=\"main\"]/div/div[2]/div/div/div/div/div/div/div/div/div[2]/span[1]/text()'\n",
    "titles = sel.xpath(xpath_for_titles).extract()\n",
    "print(titles)\n",
    "\n",
    "xpath_for_faculties = '//*[@id=\"main\"]/div/div[2]/div/div/div/div/div/div/div/div/div[2]/span[3]/text()'\n",
    "faculties = sel.xpath(xpath_for_faculties).extract()\n",
    "print(faculties)\n",
    "\n",
    "xpath_for_year = '//*[@id=\"main\"]/div/div[2]/div/div/div/div/div/div/div/div/div[2]/span[2]/text()'\n",
    "year = sel.xpath(xpath_for_year).extract()\n",
    "print(year)"
   ]
  },
  {
   "cell_type": "code",
   "execution_count": 68,
   "id": "239cd32c-02c1-493f-89e0-e8101084f090",
   "metadata": {
    "tags": []
   },
   "outputs": [
    {
     "name": "stdout",
     "output_type": "stream",
     "text": [
      "\u001b[1m                    TÜBİTAK BİLİM ÖDÜLLERİ                     \u001b[0m\n"
     ]
    },
    {
     "data": {
      "text/html": [
       "<div>\n",
       "<style scoped>\n",
       "    .dataframe tbody tr th:only-of-type {\n",
       "        vertical-align: middle;\n",
       "    }\n",
       "\n",
       "    .dataframe tbody tr th {\n",
       "        vertical-align: top;\n",
       "    }\n",
       "\n",
       "    .dataframe thead th {\n",
       "        text-align: right;\n",
       "    }\n",
       "</style>\n",
       "<table border=\"1\" class=\"dataframe\">\n",
       "  <thead>\n",
       "    <tr style=\"text-align: right;\">\n",
       "      <th></th>\n",
       "      <th>Name</th>\n",
       "      <th>Faculty</th>\n",
       "      <th>Year</th>\n",
       "    </tr>\n",
       "  </thead>\n",
       "  <tbody>\n",
       "    <tr>\n",
       "      <th>0</th>\n",
       "      <td>Burak Erman</td>\n",
       "      <td>Mühendislik</td>\n",
       "      <td>1991</td>\n",
       "    </tr>\n",
       "    <tr>\n",
       "      <th>1</th>\n",
       "      <td>Attila Aşkar</td>\n",
       "      <td>Matematik, Fen</td>\n",
       "      <td>1993</td>\n",
       "    </tr>\n",
       "    <tr>\n",
       "      <th>2</th>\n",
       "      <td>Ali Ülger</td>\n",
       "      <td>Matematik, Fen</td>\n",
       "      <td>1995</td>\n",
       "    </tr>\n",
       "    <tr>\n",
       "      <th>3</th>\n",
       "      <td>Tekin Dereli</td>\n",
       "      <td>Matematik, Fen</td>\n",
       "      <td>1996</td>\n",
       "    </tr>\n",
       "    <tr>\n",
       "      <th>4</th>\n",
       "      <td>İskender Yılgör</td>\n",
       "      <td>Fizik, Fen</td>\n",
       "      <td>2003</td>\n",
       "    </tr>\n",
       "    <tr>\n",
       "      <th>5</th>\n",
       "      <td>Yaman Arkun</td>\n",
       "      <td>Fizik, Fen</td>\n",
       "      <td>2003</td>\n",
       "    </tr>\n",
       "    <tr>\n",
       "      <th>6</th>\n",
       "      <td>Murat Tekalp</td>\n",
       "      <td>Mühendislik</td>\n",
       "      <td>2004</td>\n",
       "    </tr>\n",
       "    <tr>\n",
       "      <th>7</th>\n",
       "      <td>Ali Mostafazadeh</td>\n",
       "      <td>Fizik, Fen</td>\n",
       "      <td>2007</td>\n",
       "    </tr>\n",
       "    <tr>\n",
       "      <th>8</th>\n",
       "      <td>M. İrşadi Aksun</td>\n",
       "      <td>Elektrik Elektronik, Mühendislik</td>\n",
       "      <td>2007</td>\n",
       "    </tr>\n",
       "    <tr>\n",
       "      <th>9</th>\n",
       "      <td>Çiğdem Kağıtçıbaşı</td>\n",
       "      <td>Sosyal Bilimler</td>\n",
       "      <td>2011</td>\n",
       "    </tr>\n",
       "    <tr>\n",
       "      <th>10</th>\n",
       "      <td>Özlem Keskin Özkaya</td>\n",
       "      <td>Mühendislik</td>\n",
       "      <td>2012</td>\n",
       "    </tr>\n",
       "    <tr>\n",
       "      <th>11</th>\n",
       "      <td>Ziya Öniş</td>\n",
       "      <td>Sosyal Bilimler</td>\n",
       "      <td>2012</td>\n",
       "    </tr>\n",
       "    <tr>\n",
       "      <th>12</th>\n",
       "      <td>Alphan Sennaroğlu</td>\n",
       "      <td>Mühendislik</td>\n",
       "      <td>2013</td>\n",
       "    </tr>\n",
       "    <tr>\n",
       "      <th>13</th>\n",
       "      <td>Zeynep Aycan</td>\n",
       "      <td>Sosyal Bilimler</td>\n",
       "      <td>2013</td>\n",
       "    </tr>\n",
       "    <tr>\n",
       "      <th>14</th>\n",
       "      <td>Sumru Altuğ</td>\n",
       "      <td>Ekonomi</td>\n",
       "      <td>2017</td>\n",
       "    </tr>\n",
       "    <tr>\n",
       "      <th>15</th>\n",
       "      <td>Özgür Barış Akan</td>\n",
       "      <td>Mühendislik</td>\n",
       "      <td>2020</td>\n",
       "    </tr>\n",
       "  </tbody>\n",
       "</table>\n",
       "</div>"
      ],
      "text/plain": [
       "                   Name                           Faculty  Year\n",
       "0           Burak Erman                       Mühendislik  1991\n",
       "1          Attila Aşkar                    Matematik, Fen  1993\n",
       "2             Ali Ülger                    Matematik, Fen  1995\n",
       "3          Tekin Dereli                    Matematik, Fen  1996\n",
       "4       İskender Yılgör                        Fizik, Fen  2003\n",
       "5           Yaman Arkun                        Fizik, Fen  2003\n",
       "6          Murat Tekalp                       Mühendislik  2004\n",
       "7      Ali Mostafazadeh                        Fizik, Fen  2007\n",
       "8       M. İrşadi Aksun  Elektrik Elektronik, Mühendislik  2007\n",
       "9    Çiğdem Kağıtçıbaşı                   Sosyal Bilimler  2011\n",
       "10  Özlem Keskin Özkaya                       Mühendislik  2012\n",
       "11            Ziya Öniş                   Sosyal Bilimler  2012\n",
       "12    Alphan Sennaroğlu                       Mühendislik  2013\n",
       "13         Zeynep Aycan                   Sosyal Bilimler  2013\n",
       "14          Sumru Altuğ                           Ekonomi  2017\n",
       "15     Özgür Barış Akan                       Mühendislik  2020"
      ]
     },
     "metadata": {},
     "output_type": "display_data"
    }
   ],
   "source": [
    "# 4. Data Cleaning:\n",
    "\n",
    "import pandas as pd\n",
    "\n",
    "# Define the scraped data\n",
    "data = {\n",
    "    'Name': titles,\n",
    "    'Faculty': faculties,\n",
    "    'Year': year\n",
    "}\n",
    "\n",
    "# Create a pandas DataFrame from the scraped data\n",
    "df = pd.DataFrame(data)\n",
    "\n",
    "# Remove the prefix \"Tübitak Bilim Ödülü,\" from the 'Year' column\n",
    "df['Year'] = df['Year'].str.replace('Tübitak Bilim Ödülü, ', '')\n",
    "\n",
    "# Remove the string \"Fakültesi\" from the 'Faculty' column\n",
    "df['Faculty'] = df['Faculty'].str.replace(' Fakültesi', '')\n",
    "\n",
    "# Remove the string \"Mühendisliği\" from the 'Faculty' column\n",
    "df['Faculty'] = df['Faculty'].str.replace(' Mühendisliği', '')\n",
    "\n",
    "# Add a main title\n",
    "\n",
    "# Calculate the required spacing to center the main title\n",
    "total_width = len(df.to_string().split('\\n')[0])  # Total width of the DataFrame output\n",
    "title_width = len(\"TÜBİTAK BİLİM ÖDÜLLERİ\")  # Width of the main title\n",
    "left_padding = (total_width - title_width) // 2  # Calculate the left padding\n",
    "right_padding = total_width - title_width - left_padding  # Calculate the right padding\n",
    "\n",
    "# Add the main title as bold text and in the center\n",
    "main_title = \"\\033[1m\" + \" \" * left_padding + \"TÜBİTAK BİLİM ÖDÜLLERİ\" + \" \" * right_padding + \"\\033[0m\"\n",
    "print(main_title)\n",
    "\n",
    "# Print the DataFrame\n",
    "display(df)"
   ]
  },
  {
   "cell_type": "code",
   "execution_count": 69,
   "id": "5ee437a5-f265-4500-af2f-b74243142574",
   "metadata": {
    "tags": []
   },
   "outputs": [],
   "source": [
    "# 5. Data Storage:\n",
    "df.to_csv('extracted_data.csv', index=False)"
   ]
  },
  {
   "cell_type": "code",
   "execution_count": null,
   "id": "e89b6d4f-11b9-42de-961f-eba730412a1a",
   "metadata": {},
   "outputs": [],
   "source": []
  }
 ],
 "metadata": {
  "kernelspec": {
   "display_name": "Python 3 (ipykernel)",
   "language": "python",
   "name": "python3"
  },
  "language_info": {
   "codemirror_mode": {
    "name": "ipython",
    "version": 3
   },
   "file_extension": ".py",
   "mimetype": "text/x-python",
   "name": "python",
   "nbconvert_exporter": "python",
   "pygments_lexer": "ipython3",
   "version": "3.11.4"
  }
 },
 "nbformat": 4,
 "nbformat_minor": 5
}
