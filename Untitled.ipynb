{
 "cells": [
  {
   "cell_type": "code",
   "execution_count": 40,
   "id": "b2d3195c-f919-4868-b273-af2e326f6966",
   "metadata": {
    "tags": []
   },
   "outputs": [
    {
     "name": "stdout",
     "output_type": "stream",
     "text": [
      "   age  workclass  fnlwgt     education  educational-num      marital-status  \\\n",
      "0   25    Private  226802          11th                7       Never-married   \n",
      "1   38    Private   89814       HS-grad                9  Married-civ-spouse   \n",
      "2   28  Local-gov  336951    Assoc-acdm               12  Married-civ-spouse   \n",
      "3   44    Private  160323  Some-college               10  Married-civ-spouse   \n",
      "4   18          ?  103497  Some-college               10       Never-married   \n",
      "\n",
      "          occupation relationship   race  gender  capital-gain  capital-loss  \\\n",
      "0  Machine-op-inspct    Own-child  Black    Male             0             0   \n",
      "1    Farming-fishing      Husband  White    Male             0             0   \n",
      "2    Protective-serv      Husband  White    Male             0             0   \n",
      "3  Machine-op-inspct      Husband  Black    Male          7688             0   \n",
      "4                  ?    Own-child  White  Female             0             0   \n",
      "\n",
      "   hours-per-week native-country income  \n",
      "0              40  United-States  <=50K  \n",
      "1              50  United-States  <=50K  \n",
      "2              40  United-States   >50K  \n",
      "3              40  United-States   >50K  \n",
      "4              30  United-States  <=50K  \n"
     ]
    }
   ],
   "source": [
    "# 1.1 Load and Preprocess the Dataset\n",
    "\n",
    "import pandas as pd\n",
    "import numpy as np\n",
    "from sklearn.model_selection import train_test_split\n",
    "from sklearn.preprocessing import StandardScaler, LabelEncoder\n",
    "\n",
    "# Load the dataset from your local directory\n",
    "file_path = 'adult income.csv'\n",
    "data = pd.read_csv(file_path, na_values=' ?', skipinitialspace=True)\n",
    "\n",
    "# Display the first few rows of the dataset\n",
    "print(data.head())"
   ]
  },
  {
   "cell_type": "code",
   "execution_count": 27,
   "id": "7e712653-5fa5-4844-a2c1-8af7fb67b349",
   "metadata": {
    "tags": []
   },
   "outputs": [
    {
     "name": "stdout",
     "output_type": "stream",
     "text": [
      "        age  workclass  education  occupation  relationship      race  \\\n",
      "0 -0.995129   0.088484  -2.397350    0.099824      0.971649 -1.971746   \n",
      "1 -0.046942   0.088484   0.183660   -0.372938     -0.900852  0.392384   \n",
      "2 -0.776316  -1.277432  -0.848744    1.045346     -0.900852  0.392384   \n",
      "3  0.390683   0.088484   1.216063    0.099824     -0.900852 -1.971746   \n",
      "4 -1.505691  -2.643348   1.216063   -1.554840      0.971649  0.392384   \n",
      "\n",
      "    gender  capital-gain  capital-loss  hours-per-week  income  \n",
      "0  0.70422     -0.144804     -0.217127       -0.034087       0  \n",
      "1  0.70422     -0.144804     -0.217127        0.772930       0  \n",
      "2  0.70422     -0.144804     -0.217127       -0.034087       1  \n",
      "3  0.70422      0.886874     -0.217127       -0.034087       1  \n",
      "4 -1.42001     -0.144804     -0.217127       -0.841104       0  \n"
     ]
    }
   ],
   "source": [
    "# Select relevant features \n",
    "selected_columns = ['age', 'workclass', 'education', 'occupation', 'relationship', 'race', 'gender', \n",
    "                    'capital-gain', 'capital-loss', 'hours-per-week', 'income']\n",
    "\n",
    "data = data[selected_columns]\n",
    "\n",
    "# Handling missing values by replacing them with the most frequent value\n",
    "for column in data.columns:\n",
    "    if data[column].isnull().sum() > 0:\n",
    "        data[column].fillna(data[column].mode()[0], inplace=True)\n",
    "\n",
    "# Encode categorical variables\n",
    "categorical_columns = data.select_dtypes(include=['object']).columns.drop('income')\n",
    "for column in categorical_columns:\n",
    "    le = LabelEncoder()\n",
    "    data[column] = le.fit_transform(data[column])\n",
    "\n",
    "# Convert income to binary (0 and 1)\n",
    "data['income'] = data['income'].apply(lambda x: 1 if x.strip() == '>50K' else 0)\n",
    "\n",
    "# Normalize the data\n",
    "scaler = StandardScaler()\n",
    "numerical_columns = data.select_dtypes(include=['int64', 'float64']).columns.drop('income')\n",
    "data[numerical_columns] = scaler.fit_transform(data[numerical_columns])\n",
    "\n",
    "\n",
    "# Display the first few rows after preprocessing\n",
    "print(data.head())"
   ]
  },
  {
   "cell_type": "code",
   "execution_count": 39,
   "id": "a8985d0d-ad53-439b-9eb6-576af6f9efe2",
   "metadata": {},
   "outputs": [
    {
     "name": "stdout",
     "output_type": "stream",
     "text": [
      "Random Forest Accuracy: 0.8738867847271983\n",
      "Random Forest Classification Report:\n",
      "              precision    recall  f1-score   support\n",
      "\n",
      "           0       0.90      0.95      0.92      7479\n",
      "           1       0.78      0.64      0.70      2290\n",
      "\n",
      "    accuracy                           0.87      9769\n",
      "   macro avg       0.84      0.79      0.81      9769\n",
      "weighted avg       0.87      0.87      0.87      9769\n",
      "\n",
      "Random Forest Confusion Matrix:\n",
      "[[7070  409]\n",
      " [ 823 1467]]\n"
     ]
    }
   ],
   "source": [
    "# 4.3 Random Forest\n",
    "\n",
    "# Make predictions with the best random forest model\n",
    "y_pred_random_forest = best_random_forest.predict(X_test)\n",
    "\n",
    "# Calculate accuracy\n",
    "accuracy_random_forest = accuracy_score(y_test, y_pred_random_forest)\n",
    "print(\"Random Forest Accuracy:\", accuracy_random_forest)\n",
    "\n",
    "# Calculate other classification metrics\n",
    "print(\"Random Forest Classification Report:\")\n",
    "print(classification_report(y_test, y_pred_random_forest))\n",
    "\n",
    "# Confusion matrix\n",
    "print(\"Random Forest Confusion Matrix:\")\n",
    "print(confusion_matrix(y_test, y_pred_random_forest))\n"
   ]
  },
  {
   "cell_type": "code",
   "execution_count": 28,
   "id": "17a69f02-0fd1-459e-9512-b5effad53726",
   "metadata": {
    "tags": []
   },
   "outputs": [
    {
     "name": "stdout",
     "output_type": "stream",
     "text": [
      "Training set shape: (39073, 10)\n",
      "Test set shape: (9769, 10)\n"
     ]
    }
   ],
   "source": [
    "# 1.2 Split the Dataset into Training and Test Sets\n",
    "\n",
    "# Define the features and target variable\n",
    "X = data.drop('income', axis=1)\n",
    "y = data['income']\n",
    "\n",
    "# Split the data into training and test sets\n",
    "X_train, X_test, y_train, y_test = train_test_split(X, y, test_size=0.2, random_state=42)\n",
    "\n",
    "print(\"Training set shape:\", X_train.shape)\n",
    "print(\"Test set shape:\", X_test.shape)"
   ]
  },
  {
   "cell_type": "code",
   "execution_count": 29,
   "id": "99679ece-112b-42e6-8d4e-75912fb9a232",
   "metadata": {
    "tags": []
   },
   "outputs": [
    {
     "name": "stdout",
     "output_type": "stream",
     "text": [
      "Logistic Regression Accuracy: 0.8074521445388474\n",
      "Logistic Regression Classification Report:\n",
      "              precision    recall  f1-score   support\n",
      "\n",
      "           0       0.82      0.96      0.88      7479\n",
      "           1       0.69      0.32      0.44      2290\n",
      "\n",
      "    accuracy                           0.81      9769\n",
      "   macro avg       0.76      0.64      0.66      9769\n",
      "weighted avg       0.79      0.81      0.78      9769\n",
      "\n",
      "Logistic Regression Confusion Matrix:\n",
      "[[7156  323]\n",
      " [1558  732]]\n"
     ]
    }
   ],
   "source": [
    "# 2.1 Logistic Regression\n",
    "from sklearn.linear_model import LogisticRegression\n",
    "from sklearn.metrics import accuracy_score, classification_report, confusion_matrix\n",
    "\n",
    "# Initialize and train the logistic regression model\n",
    "log_reg = LogisticRegression(random_state=42)\n",
    "log_reg.fit(X_train, y_train)\n",
    "\n",
    "# Make predictions\n",
    "y_pred_log_reg = log_reg.predict(X_test)\n",
    "\n",
    "# Evaluate the model\n",
    "accuracy_log_reg = accuracy_score(y_test, y_pred_log_reg)\n",
    "print(\"Logistic Regression Accuracy:\", accuracy_log_reg)\n",
    "print(\"Logistic Regression Classification Report:\")\n",
    "print(classification_report(y_test, y_pred_log_reg))\n",
    "print(\"Logistic Regression Confusion Matrix:\")\n",
    "print(confusion_matrix(y_test, y_pred_log_reg))"
   ]
  },
  {
   "cell_type": "code",
   "execution_count": 30,
   "id": "38827786-b354-4794-9cdb-11cf56ff8275",
   "metadata": {
    "tags": []
   },
   "outputs": [
    {
     "name": "stdout",
     "output_type": "stream",
     "text": [
      "Decision Tree Accuracy: 0.8228068379568021\n",
      "Decision Tree Classification Report:\n",
      "              precision    recall  f1-score   support\n",
      "\n",
      "           0       0.88      0.89      0.88      7479\n",
      "           1       0.62      0.61      0.62      2290\n",
      "\n",
      "    accuracy                           0.82      9769\n",
      "   macro avg       0.75      0.75      0.75      9769\n",
      "weighted avg       0.82      0.82      0.82      9769\n",
      "\n",
      "Decision Tree Confusion Matrix:\n",
      "[[6631  848]\n",
      " [ 883 1407]]\n"
     ]
    }
   ],
   "source": [
    "# 2.2 Decision Tree\n",
    "\n",
    "from sklearn.tree import DecisionTreeClassifier\n",
    "\n",
    "# Initialize and train the decision tree model\n",
    "decision_tree = DecisionTreeClassifier(random_state=42)\n",
    "decision_tree.fit(X_train, y_train)\n",
    "\n",
    "# Make predictions\n",
    "y_pred_decision_tree = decision_tree.predict(X_test)\n",
    "\n",
    "# Evaluate the model\n",
    "accuracy_decision_tree = accuracy_score(y_test, y_pred_decision_tree)\n",
    "print(\"Decision Tree Accuracy:\", accuracy_decision_tree)\n",
    "print(\"Decision Tree Classification Report:\")\n",
    "print(classification_report(y_test, y_pred_decision_tree))\n",
    "print(\"Decision Tree Confusion Matrix:\")\n",
    "print(confusion_matrix(y_test, y_pred_decision_tree))"
   ]
  },
  {
   "cell_type": "code",
   "execution_count": 31,
   "id": "f41a6c9f-b197-4a65-8492-6043f0ecf6c6",
   "metadata": {
    "tags": []
   },
   "outputs": [
    {
     "name": "stdout",
     "output_type": "stream",
     "text": [
      "Random Forest Accuracy: 0.8586344559320299\n",
      "Random Forest Classification Report:\n",
      "              precision    recall  f1-score   support\n",
      "\n",
      "           0       0.90      0.92      0.91      7479\n",
      "           1       0.72      0.65      0.68      2290\n",
      "\n",
      "    accuracy                           0.86      9769\n",
      "   macro avg       0.81      0.79      0.80      9769\n",
      "weighted avg       0.85      0.86      0.86      9769\n",
      "\n",
      "Random Forest Confusion Matrix:\n",
      "[[6905  574]\n",
      " [ 807 1483]]\n"
     ]
    }
   ],
   "source": [
    "#2.3 Random Forest\n",
    "from sklearn.ensemble import RandomForestClassifier\n",
    "\n",
    "# Initialize and train the random forest model\n",
    "random_forest = RandomForestClassifier(random_state=42)\n",
    "random_forest.fit(X_train, y_train)\n",
    "\n",
    "# Make predictions\n",
    "y_pred_random_forest = random_forest.predict(X_test)\n",
    "\n",
    "# Evaluate the model\n",
    "accuracy_random_forest = accuracy_score(y_test, y_pred_random_forest)\n",
    "print(\"Random Forest Accuracy:\", accuracy_random_forest)\n",
    "print(\"Random Forest Classification Report:\")\n",
    "print(classification_report(y_test, y_pred_random_forest))\n",
    "print(\"Random Forest Confusion Matrix:\")\n",
    "print(confusion_matrix(y_test, y_pred_random_forest))"
   ]
  },
  {
   "cell_type": "code",
   "execution_count": 33,
   "id": "2399fd37-29e1-49c9-bf34-7c4b5726ab5a",
   "metadata": {
    "tags": []
   },
   "outputs": [
    {
     "name": "stdout",
     "output_type": "stream",
     "text": [
      "Best Parameters for Logistic Regression: {'C': 0.01, 'penalty': 'l2'}\n",
      "Best Accuracy Score for Logistic Regression: 0.8027025233675926\n"
     ]
    },
    {
     "name": "stderr",
     "output_type": "stream",
     "text": [
      "/Users/ilaydadenizikendiz/anaconda3/lib/python3.11/site-packages/sklearn/model_selection/_validation.py:425: FitFailedWarning: \n",
      "30 fits failed out of a total of 60.\n",
      "The score on these train-test partitions for these parameters will be set to nan.\n",
      "If these failures are not expected, you can try to debug them by setting error_score='raise'.\n",
      "\n",
      "Below are more details about the failures:\n",
      "--------------------------------------------------------------------------------\n",
      "30 fits failed with the following error:\n",
      "Traceback (most recent call last):\n",
      "  File \"/Users/ilaydadenizikendiz/anaconda3/lib/python3.11/site-packages/sklearn/model_selection/_validation.py\", line 732, in _fit_and_score\n",
      "    estimator.fit(X_train, y_train, **fit_params)\n",
      "  File \"/Users/ilaydadenizikendiz/anaconda3/lib/python3.11/site-packages/sklearn/base.py\", line 1151, in wrapper\n",
      "    return fit_method(estimator, *args, **kwargs)\n",
      "           ^^^^^^^^^^^^^^^^^^^^^^^^^^^^^^^^^^^^^^\n",
      "  File \"/Users/ilaydadenizikendiz/anaconda3/lib/python3.11/site-packages/sklearn/linear_model/_logistic.py\", line 1168, in fit\n",
      "    solver = _check_solver(self.solver, self.penalty, self.dual)\n",
      "             ^^^^^^^^^^^^^^^^^^^^^^^^^^^^^^^^^^^^^^^^^^^^^^^^^^^\n",
      "  File \"/Users/ilaydadenizikendiz/anaconda3/lib/python3.11/site-packages/sklearn/linear_model/_logistic.py\", line 56, in _check_solver\n",
      "    raise ValueError(\n",
      "ValueError: Solver lbfgs supports only 'l2' or 'none' penalties, got l1 penalty.\n",
      "\n",
      "  warnings.warn(some_fits_failed_message, FitFailedWarning)\n",
      "/Users/ilaydadenizikendiz/anaconda3/lib/python3.11/site-packages/sklearn/model_selection/_search.py:976: UserWarning: One or more of the test scores are non-finite: [       nan 0.79205585        nan 0.80270252        nan 0.80144845\n",
      "        nan 0.80132048        nan 0.80124371        nan 0.80124371]\n",
      "  warnings.warn(\n"
     ]
    }
   ],
   "source": [
    "# 3.1 Logistic Regression\n",
    "from sklearn.model_selection import GridSearchCV\n",
    "\n",
    "# Define hyperparameters for logistic regression\n",
    "param_grid_log_reg = {'C': [0.001, 0.01, 0.1, 1, 10, 100],\n",
    "                      'penalty': ['l1', 'l2']}\n",
    "\n",
    "# Initialize logistic regression model\n",
    "log_reg = LogisticRegression(random_state=42)\n",
    "\n",
    "# Perform grid search cross-validation\n",
    "grid_search_log_reg = GridSearchCV(estimator=log_reg, param_grid=param_grid_log_reg, cv=5, scoring='accuracy')\n",
    "grid_search_log_reg.fit(X_train, y_train)\n",
    "\n",
    "# Get the best parameters and best score\n",
    "best_params_log_reg = grid_search_log_reg.best_params_\n",
    "best_score_log_reg = grid_search_log_reg.best_score_\n",
    "\n",
    "print(\"Best Parameters for Logistic Regression:\", best_params_log_reg)\n",
    "print(\"Best Accuracy Score for Logistic Regression:\", best_score_log_reg)\n",
    "\n",
    "# Get the best model\n",
    "best_log_reg = grid_search_log_reg.best_estimator_"
   ]
  },
  {
   "cell_type": "code",
   "execution_count": 34,
   "id": "553dfa25-46de-4de8-8722-e1ba93bd9d66",
   "metadata": {
    "tags": []
   },
   "outputs": [
    {
     "name": "stdout",
     "output_type": "stream",
     "text": [
      "Best Parameters for Decision Tree: {'max_depth': 10, 'min_samples_leaf': 4, 'min_samples_split': 10}\n",
      "Best Accuracy Score for Decision Tree: 0.8541447286650714\n"
     ]
    }
   ],
   "source": [
    "# 3.2 Decision Tree\n",
    "\n",
    "# Define hyperparameters for decision tree\n",
    "param_grid_decision_tree = {'max_depth': [None, 10, 20, 30, 40],\n",
    "                            'min_samples_split': [2, 5, 10],\n",
    "                            'min_samples_leaf': [1, 2, 4]}\n",
    "\n",
    "# Initialize decision tree model\n",
    "decision_tree = DecisionTreeClassifier(random_state=42)\n",
    "\n",
    "# Perform grid search cross-validation\n",
    "grid_search_decision_tree = GridSearchCV(estimator=decision_tree, param_grid=param_grid_decision_tree, cv=5, scoring='accuracy')\n",
    "grid_search_decision_tree.fit(X_train, y_train)\n",
    "\n",
    "# Get the best parameters and best score\n",
    "best_params_decision_tree = grid_search_decision_tree.best_params_\n",
    "best_score_decision_tree = grid_search_decision_tree.best_score_\n",
    "\n",
    "print(\"Best Parameters for Decision Tree:\", best_params_decision_tree)\n",
    "print(\"Best Accuracy Score for Decision Tree:\", best_score_decision_tree)\n",
    "\n",
    "# Get the best model\n",
    "best_decision_tree = grid_search_decision_tree.best_estimator_"
   ]
  },
  {
   "cell_type": "code",
   "execution_count": 36,
   "id": "33e3fcec-d37f-4dfd-82f1-5481e7bb4891",
   "metadata": {
    "tags": []
   },
   "outputs": [
    {
     "name": "stdout",
     "output_type": "stream",
     "text": [
      "Best Parameters for Random Forest: {'n_estimators': 100, 'min_samples_split': 10, 'min_samples_leaf': 4, 'max_depth': None, 'bootstrap': True}\n",
      "Best Accuracy Score for Random Forest: 0.8631\n",
      "Random search took 131.99 seconds\n"
     ]
    }
   ],
   "source": [
    "from sklearn.model_selection import RandomizedSearchCV\n",
    "import time\n",
    "\n",
    "# Define hyperparameters for random forest\n",
    "param_dist_random_forest = {\n",
    "    'n_estimators': [100, 200, 300],\n",
    "    'max_depth': [None, 10, 20],\n",
    "    'min_samples_split': [2, 5, 10],\n",
    "    'min_samples_leaf': [1, 2, 4],\n",
    "    'bootstrap': [True, False]\n",
    "}\n",
    "\n",
    "# Initialize random forest model\n",
    "random_forest = RandomForestClassifier(random_state=42)\n",
    "\n",
    "# Perform randomized search cross-validation\n",
    "random_search_random_forest = RandomizedSearchCV(estimator=random_forest, \n",
    "                                                 param_distributions=param_dist_random_forest, \n",
    "                                                 n_iter=50,  # Number of parameter settings sampled\n",
    "                                                 cv=3,       # Number of folds in cross-validation\n",
    "                                                 scoring='accuracy', \n",
    "                                                 n_jobs=-1,  # Use all available CPU cores\n",
    "                                                 random_state=42)\n",
    "\n",
    "start_time = time.time()\n",
    "random_search_random_forest.fit(X_train, y_train)\n",
    "end_time = time.time()\n",
    "\n",
    "# Get the best parameters and best score\n",
    "best_params_random_forest = random_search_random_forest.best_params_\n",
    "best_score_random_forest = random_search_random_forest.best_score_\n",
    "\n",
    "print(f\"Best Parameters for Random Forest: {best_params_random_forest}\")\n",
    "print(f\"Best Accuracy Score for Random Forest: {best_score_random_forest:.4f}\")\n",
    "print(f\"Random search took {end_time - start_time:.2f} seconds\")\n",
    "\n",
    "# Get the best model\n",
    "best_random_forest = random_search_random_forest.best_estimator_\n"
   ]
  },
  {
   "cell_type": "code",
   "execution_count": 37,
   "id": "969863bb-903c-4854-aac1-a46f79f55be7",
   "metadata": {},
   "outputs": [
    {
     "name": "stdout",
     "output_type": "stream",
     "text": [
      "Logistic Regression Accuracy: 0.8079639676527792\n",
      "Logistic Regression Classification Report:\n",
      "              precision    recall  f1-score   support\n",
      "\n",
      "           0       0.82      0.96      0.88      7479\n",
      "           1       0.71      0.31      0.43      2290\n",
      "\n",
      "    accuracy                           0.81      9769\n",
      "   macro avg       0.76      0.63      0.66      9769\n",
      "weighted avg       0.79      0.81      0.78      9769\n",
      "\n",
      "Logistic Regression Confusion Matrix:\n",
      "[[7185  294]\n",
      " [1582  708]]\n"
     ]
    }
   ],
   "source": [
    "# 4.1 Logistic Regression\n",
    "from sklearn.metrics import accuracy_score, classification_report, confusion_matrix\n",
    "\n",
    "# Make predictions with the best logistic regression model\n",
    "y_pred_log_reg = best_log_reg.predict(X_test)\n",
    "\n",
    "# Calculate accuracy\n",
    "accuracy_log_reg = accuracy_score(y_test, y_pred_log_reg)\n",
    "print(\"Logistic Regression Accuracy:\", accuracy_log_reg)\n",
    "\n",
    "# Calculate other classification metrics\n",
    "print(\"Logistic Regression Classification Report:\")\n",
    "print(classification_report(y_test, y_pred_log_reg))\n",
    "\n",
    "# Confusion matrix\n",
    "print(\"Logistic Regression Confusion Matrix:\")\n",
    "print(confusion_matrix(y_test, y_pred_log_reg))"
   ]
  },
  {
   "cell_type": "code",
   "execution_count": 38,
   "id": "7f2904c4-e196-43a3-9160-1ea783f597cc",
   "metadata": {},
   "outputs": [
    {
     "name": "stdout",
     "output_type": "stream",
     "text": [
      "Decision Tree Accuracy: 0.8632408639574163\n",
      "Decision Tree Classification Report:\n",
      "              precision    recall  f1-score   support\n",
      "\n",
      "           0       0.88      0.95      0.91      7479\n",
      "           1       0.78      0.58      0.66      2290\n",
      "\n",
      "    accuracy                           0.86      9769\n",
      "   macro avg       0.83      0.76      0.79      9769\n",
      "weighted avg       0.86      0.86      0.86      9769\n",
      "\n",
      "Decision Tree Confusion Matrix:\n",
      "[[7113  366]\n",
      " [ 970 1320]]\n"
     ]
    }
   ],
   "source": [
    "# 4.2 Decision Tree\n",
    "# Make predictions with the best decision tree model\n",
    "y_pred_decision_tree = best_decision_tree.predict(X_test)\n",
    "\n",
    "# Calculate accuracy\n",
    "accuracy_decision_tree = accuracy_score(y_test, y_pred_decision_tree)\n",
    "print(\"Decision Tree Accuracy:\", accuracy_decision_tree)\n",
    "\n",
    "# Calculate other classification metrics\n",
    "print(\"Decision Tree Classification Report:\")\n",
    "print(classification_report(y_test, y_pred_decision_tree))\n",
    "\n",
    "# Confusion matrix\n",
    "print(\"Decision Tree Confusion Matrix:\")\n",
    "print(confusion_matrix(y_test, y_pred_decision_tree))"
   ]
  },
  {
   "cell_type": "code",
   "execution_count": 39,
   "id": "5051cbf8-33b5-485f-b8c4-841b97a01bb0",
   "metadata": {},
   "outputs": [
    {
     "name": "stdout",
     "output_type": "stream",
     "text": [
      "Random Forest Accuracy: 0.8738867847271983\n",
      "Random Forest Classification Report:\n",
      "              precision    recall  f1-score   support\n",
      "\n",
      "           0       0.90      0.95      0.92      7479\n",
      "           1       0.78      0.64      0.70      2290\n",
      "\n",
      "    accuracy                           0.87      9769\n",
      "   macro avg       0.84      0.79      0.81      9769\n",
      "weighted avg       0.87      0.87      0.87      9769\n",
      "\n",
      "Random Forest Confusion Matrix:\n",
      "[[7070  409]\n",
      " [ 823 1467]]\n"
     ]
    }
   ],
   "source": [
    "# 4.3 Random Forest\n",
    "\n",
    "# Make predictions with the best random forest model\n",
    "y_pred_random_forest = best_random_forest.predict(X_test)\n",
    "\n",
    "# Calculate accuracy\n",
    "accuracy_random_forest = accuracy_score(y_test, y_pred_random_forest)\n",
    "print(\"Random Forest Accuracy:\", accuracy_random_forest)\n",
    "\n",
    "# Calculate other classification metrics\n",
    "print(\"Random Forest Classification Report:\")\n",
    "print(classification_report(y_test, y_pred_random_forest))\n",
    "\n",
    "# Confusion matrix\n",
    "print(\"Random Forest Confusion Matrix:\")\n",
    "print(confusion_matrix(y_test, y_pred_random_forest))\n"
   ]
  },
  {
   "cell_type": "code",
   "execution_count": null,
   "id": "b64d23a2-05e6-422d-9574-200a48f6b3aa",
   "metadata": {},
   "outputs": [],
   "source": []
  }
 ],
 "metadata": {
  "kernelspec": {
   "display_name": "Python 3 (ipykernel)",
   "language": "python",
   "name": "python3"
  },
  "language_info": {
   "codemirror_mode": {
    "name": "ipython",
    "version": 3
   },
   "file_extension": ".py",
   "mimetype": "text/x-python",
   "name": "python",
   "nbconvert_exporter": "python",
   "pygments_lexer": "ipython3",
   "version": "3.11.4"
  }
 },
 "nbformat": 4,
 "nbformat_minor": 5
}
